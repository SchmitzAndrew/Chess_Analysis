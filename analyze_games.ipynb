{
 "cells": [
  {
   "cell_type": "code",
   "execution_count": 2,
   "outputs": [
    {
     "name": "stdout",
     "output_type": "stream",
     "text": [
      "  result  win  loss  draw white_player  black_player  white_elo  black_elo  \\\n",
      "0    win    1     0     0   SCHMITZ874      Blekitni        751        692   \n",
      "1    win    1     0     0   SCHMITZ874     hadi13711        750        733   \n",
      "2    win    1     0     0   SCHMITZ874     Supchik74        758        730   \n",
      "3   loss    0     1     0   SCHMITZ874      gigi6320        751        788   \n",
      "4   loss    0     1     0   SCHMITZ874  meysamshakor        735        718   \n",
      "\n",
      "  timezone start_time  end_time  \n",
      "0      UTC   18:41:04  18:49:23  \n",
      "1      UTC   19:00:06  19:08:26  \n",
      "2      UTC   19:08:38  19:11:05  \n",
      "3      UTC   19:19:57  19:30:30  \n",
      "4      UTC   20:32:21  20:40:20  \n"
     ]
    }
   ],
   "source": [
    "import pandas as pd\n",
    "\n",
    "df = pd.read_csv(\"games_data.csv\")\n",
    "\n",
    "print(df.head())\n"
   ],
   "metadata": {
    "collapsed": false,
    "pycharm": {
     "name": "#%%\n"
    }
   }
  },
  {
   "cell_type": "code",
   "execution_count": 3,
   "outputs": [
    {
     "name": "stdout",
     "output_type": "stream",
     "text": [
      "tie      52\n",
      "loss    267\n",
      "win     277\n",
      "Name: result, dtype: int64\n",
      "Winrate: 0.5091911764705882\n"
     ]
    }
   ],
   "source": [
    "# determine wins and losses, winrate\n",
    "result_freq = df['result'].value_counts(ascending = True)\n",
    "print(result_freq.head())\n",
    "wins = result_freq.win\n",
    "losses = result_freq.loss\n",
    "print(f\"Winrate: { wins/ (wins +losses)}\")"
   ],
   "metadata": {
    "collapsed": false,
    "pycharm": {
     "name": "#%%\n"
    }
   }
  },
  {
   "cell_type": "code",
   "execution_count": 4,
   "outputs": [
    {
     "data": {
      "text/plain": "            win  loss  draw   winrate\nstart_time                           \n00           14    20     3  0.411765\n01           16    18     1  0.470588\n02           12    12     2  0.500000\n03           13    16     1  0.448276\n04           22     6     3  0.785714\n05           12    20     5  0.375000\n06           13     9     2  0.590909\n07            8    13     5  0.380952\n08           12     5     0  0.705882\n09            3     0     0  1.000000\n10            0     1     0  0.000000\n14            0     1     0  0.000000\n15            2     2     0  0.500000\n16            6     9     3  0.400000\n17           17    13     5  0.566667\n18           14     9     2  0.608696\n19           10    18     4  0.357143\n20           42    33     7  0.560000\n21           20    20     3  0.500000\n22           18    19     2  0.486486\n23           23    23     4  0.500000",
      "text/html": "<div>\n<style scoped>\n    .dataframe tbody tr th:only-of-type {\n        vertical-align: middle;\n    }\n\n    .dataframe tbody tr th {\n        vertical-align: top;\n    }\n\n    .dataframe thead th {\n        text-align: right;\n    }\n</style>\n<table border=\"1\" class=\"dataframe\">\n  <thead>\n    <tr style=\"text-align: right;\">\n      <th></th>\n      <th>win</th>\n      <th>loss</th>\n      <th>draw</th>\n      <th>winrate</th>\n    </tr>\n    <tr>\n      <th>start_time</th>\n      <th></th>\n      <th></th>\n      <th></th>\n      <th></th>\n    </tr>\n  </thead>\n  <tbody>\n    <tr>\n      <th>00</th>\n      <td>14</td>\n      <td>20</td>\n      <td>3</td>\n      <td>0.411765</td>\n    </tr>\n    <tr>\n      <th>01</th>\n      <td>16</td>\n      <td>18</td>\n      <td>1</td>\n      <td>0.470588</td>\n    </tr>\n    <tr>\n      <th>02</th>\n      <td>12</td>\n      <td>12</td>\n      <td>2</td>\n      <td>0.500000</td>\n    </tr>\n    <tr>\n      <th>03</th>\n      <td>13</td>\n      <td>16</td>\n      <td>1</td>\n      <td>0.448276</td>\n    </tr>\n    <tr>\n      <th>04</th>\n      <td>22</td>\n      <td>6</td>\n      <td>3</td>\n      <td>0.785714</td>\n    </tr>\n    <tr>\n      <th>05</th>\n      <td>12</td>\n      <td>20</td>\n      <td>5</td>\n      <td>0.375000</td>\n    </tr>\n    <tr>\n      <th>06</th>\n      <td>13</td>\n      <td>9</td>\n      <td>2</td>\n      <td>0.590909</td>\n    </tr>\n    <tr>\n      <th>07</th>\n      <td>8</td>\n      <td>13</td>\n      <td>5</td>\n      <td>0.380952</td>\n    </tr>\n    <tr>\n      <th>08</th>\n      <td>12</td>\n      <td>5</td>\n      <td>0</td>\n      <td>0.705882</td>\n    </tr>\n    <tr>\n      <th>09</th>\n      <td>3</td>\n      <td>0</td>\n      <td>0</td>\n      <td>1.000000</td>\n    </tr>\n    <tr>\n      <th>10</th>\n      <td>0</td>\n      <td>1</td>\n      <td>0</td>\n      <td>0.000000</td>\n    </tr>\n    <tr>\n      <th>14</th>\n      <td>0</td>\n      <td>1</td>\n      <td>0</td>\n      <td>0.000000</td>\n    </tr>\n    <tr>\n      <th>15</th>\n      <td>2</td>\n      <td>2</td>\n      <td>0</td>\n      <td>0.500000</td>\n    </tr>\n    <tr>\n      <th>16</th>\n      <td>6</td>\n      <td>9</td>\n      <td>3</td>\n      <td>0.400000</td>\n    </tr>\n    <tr>\n      <th>17</th>\n      <td>17</td>\n      <td>13</td>\n      <td>5</td>\n      <td>0.566667</td>\n    </tr>\n    <tr>\n      <th>18</th>\n      <td>14</td>\n      <td>9</td>\n      <td>2</td>\n      <td>0.608696</td>\n    </tr>\n    <tr>\n      <th>19</th>\n      <td>10</td>\n      <td>18</td>\n      <td>4</td>\n      <td>0.357143</td>\n    </tr>\n    <tr>\n      <th>20</th>\n      <td>42</td>\n      <td>33</td>\n      <td>7</td>\n      <td>0.560000</td>\n    </tr>\n    <tr>\n      <th>21</th>\n      <td>20</td>\n      <td>20</td>\n      <td>3</td>\n      <td>0.500000</td>\n    </tr>\n    <tr>\n      <th>22</th>\n      <td>18</td>\n      <td>19</td>\n      <td>2</td>\n      <td>0.486486</td>\n    </tr>\n    <tr>\n      <th>23</th>\n      <td>23</td>\n      <td>23</td>\n      <td>4</td>\n      <td>0.500000</td>\n    </tr>\n  </tbody>\n</table>\n</div>"
     },
     "execution_count": 4,
     "metadata": {},
     "output_type": "execute_result"
    }
   ],
   "source": [
    "#finds win rate by time\n",
    "df['start_time'] = df['start_time'].apply(lambda x: x[:2])\n",
    "\n",
    "df = df[['win', 'loss', 'draw', 'start_time']]\n",
    "df = df.groupby(['start_time']).sum()\n",
    "\n",
    "def calc_winrate(row):\n",
    "    return row['win'] / (row['win'] + row['loss'])\n",
    "    \n",
    "df['winrate'] = df.apply(calc_winrate, axis = 1)\n",
    "df"
   ],
   "metadata": {
    "collapsed": false,
    "pycharm": {
     "name": "#%%\n"
    }
   }
  },
  {
   "cell_type": "markdown",
   "source": [],
   "metadata": {
    "collapsed": false,
    "pycharm": {
     "name": "#%% md\n"
    }
   }
  },
  {
   "cell_type": "code",
   "execution_count": 6,
   "outputs": [
    {
     "data": {
      "text/plain": "<AxesSubplot:xlabel='start_time'>"
     },
     "execution_count": 6,
     "metadata": {},
     "output_type": "execute_result"
    },
    {
     "data": {
      "text/plain": "<Figure size 432x288 with 1 Axes>",
      "image/png": "[encoded data removed]"
     },
     "metadata": {
      "needs_background": "light"
     },
     "output_type": "display_data"
    }
   ],
   "source": [
    "start_time_plot = df.plot(kind = 'bar', y= 'winrate')\n",
    "\n",
    "start_time_plot.set_ylim(0.3, 0.8)\n",
    "start_time_plot"
   ],
   "metadata": {
    "collapsed": false,
    "pycharm": {
     "name": "#%%\n"
    }
   }
  }
 ],
 "metadata": {
  "kernelspec": {
   "display_name": "Python 3",
   "language": "python",
   "name": "python3"
  },
  "language_info": {
   "codemirror_mode": {
    "name": "ipython",
    "version": 2
   },
   "file_extension": ".py",
   "mimetype": "text/x-python",
   "name": "python",
   "nbconvert_exporter": "python",
   "pygments_lexer": "ipython2",
   "version": "2.7.6"
  }
 },
 "nbformat": 4,
 "nbformat_minor": 0
}